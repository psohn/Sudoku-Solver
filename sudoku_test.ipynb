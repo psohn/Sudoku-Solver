{
 "cells": [
  {
   "cell_type": "markdown",
   "metadata": {},
   "source": [
    "Using our Sudoku solver functions, we try to solve different puzzles from Easy to Expert in difficulty"
   ]
  },
  {
   "cell_type": "code",
   "execution_count": 1,
   "metadata": {},
   "outputs": [],
   "source": [
    "### importing functions ###\n",
    "\n",
    "from sudoku_solver import *"
   ]
  },
  {
   "cell_type": "code",
   "execution_count": 2,
   "metadata": {},
   "outputs": [],
   "source": [
    "### sudoku boards ###\n",
    "\n",
    "# easy board\n",
    "sudoku_easy = [\n",
    "    [9, 0, 6, 0, 7, 0, 0, 0, 0],\n",
    "    [0, 0, 0, 2, 0, 0, 0, 9, 0],\n",
    "    [8, 5, 1, 0, 0, 9, 7, 0, 0],\n",
    "    [5, 6, 0, 0, 2, 0, 9, 0, 3],\n",
    "    [0, 0, 0, 0, 1, 0, 6, 8, 0],\n",
    "    [0, 0, 7, 6, 0, 0, 2, 0, 4],\n",
    "    [0, 1, 9, 0, 0, 4, 0, 3, 8],\n",
    "    [7, 0, 4, 5, 0, 8, 1, 6, 0],\n",
    "    [0, 8, 5, 0, 3, 0, 4, 7, 0]\n",
    "    ]\n",
    "\n",
    "# expert board\n",
    "sudoku_expert = [\n",
    "    [0, 8, 0, 0, 0, 0, 9, 0, 0],\n",
    "    [0, 0, 0, 7, 0, 0, 1, 0, 0],\n",
    "    [0, 0, 6, 0, 0, 2, 0, 0, 4],\n",
    "    [7, 5, 0, 0, 0, 9, 0, 0, 0],\n",
    "    [0, 0, 0, 0, 0, 0, 0, 0, 6],\n",
    "    [0, 0, 9, 0, 4, 8, 0, 0, 3],\n",
    "    [0, 4, 8, 0, 0, 0, 0, 3, 0],\n",
    "    [0, 0, 0, 0, 1, 0, 0, 0, 0],\n",
    "    [0, 3, 0, 5, 0, 0, 8, 0, 0]\n",
    "    ]"
   ]
  },
  {
   "cell_type": "code",
   "execution_count": 3,
   "metadata": {},
   "outputs": [
    {
     "name": "stdout",
     "output_type": "stream",
     "text": [
      "- - - - - - - - - - - - - \n",
      "| 9 0 6 | 0 7 0 | 0 0 0 |\n",
      "| 0 0 0 | 2 0 0 | 0 9 0 |\n",
      "| 8 5 1 | 0 0 9 | 7 0 0 |\n",
      "- - - - - - - - - - - - - \n",
      "| 5 6 0 | 0 2 0 | 9 0 3 |\n",
      "| 0 0 0 | 0 1 0 | 6 8 0 |\n",
      "| 0 0 7 | 6 0 0 | 2 0 4 |\n",
      "- - - - - - - - - - - - - \n",
      "| 0 1 9 | 0 0 4 | 0 3 8 |\n",
      "| 7 0 4 | 5 0 8 | 1 6 0 |\n",
      "| 0 8 5 | 0 3 0 | 4 7 0 |\n",
      "- - - - - - - - - - - - - \n",
      "- - - - - - - - - - - - - \n",
      "| 9 2 6 | 8 7 1 | 3 4 5 |\n",
      "| 4 7 3 | 2 5 6 | 8 9 1 |\n",
      "| 8 5 1 | 3 4 9 | 7 2 6 |\n",
      "- - - - - - - - - - - - - \n",
      "| 5 6 8 | 4 2 7 | 9 1 3 |\n",
      "| 3 4 2 | 9 1 5 | 6 8 7 |\n",
      "| 1 9 7 | 6 8 3 | 2 5 4 |\n",
      "- - - - - - - - - - - - - \n",
      "| 2 1 9 | 7 6 4 | 5 3 8 |\n",
      "| 7 3 4 | 5 9 8 | 1 6 2 |\n",
      "| 6 8 5 | 1 3 2 | 4 7 9 |\n",
      "- - - - - - - - - - - - - \n"
     ]
    }
   ],
   "source": [
    "### solving easy Sudoku ###\n",
    "\n",
    "print_board(sudoku_easy)\n",
    "solve_board(sudoku_easy)\n",
    "print_board(sudoku_easy)"
   ]
  },
  {
   "cell_type": "code",
   "execution_count": 4,
   "metadata": {},
   "outputs": [
    {
     "name": "stdout",
     "output_type": "stream",
     "text": [
      "- - - - - - - - - - - - - \n",
      "| 0 8 0 | 0 0 0 | 9 0 0 |\n",
      "| 0 0 0 | 7 0 0 | 1 0 0 |\n",
      "| 0 0 6 | 0 0 2 | 0 0 4 |\n",
      "- - - - - - - - - - - - - \n",
      "| 7 5 0 | 0 0 9 | 0 0 0 |\n",
      "| 0 0 0 | 0 0 0 | 0 0 6 |\n",
      "| 0 0 9 | 0 4 8 | 0 0 3 |\n",
      "- - - - - - - - - - - - - \n",
      "| 0 4 8 | 0 0 0 | 0 3 0 |\n",
      "| 0 0 0 | 0 1 0 | 0 0 0 |\n",
      "| 0 3 0 | 5 0 0 | 8 0 0 |\n",
      "- - - - - - - - - - - - - \n",
      "- - - - - - - - - - - - - \n",
      "| 3 8 7 | 4 5 1 | 9 6 2 |\n",
      "| 4 9 2 | 7 3 6 | 1 8 5 |\n",
      "| 5 1 6 | 9 8 2 | 3 7 4 |\n",
      "- - - - - - - - - - - - - \n",
      "| 7 5 4 | 3 6 9 | 2 1 8 |\n",
      "| 8 2 3 | 1 7 5 | 4 9 6 |\n",
      "| 1 6 9 | 2 4 8 | 7 5 3 |\n",
      "- - - - - - - - - - - - - \n",
      "| 9 4 8 | 6 2 7 | 5 3 1 |\n",
      "| 2 7 5 | 8 1 3 | 6 4 9 |\n",
      "| 6 3 1 | 5 9 4 | 8 2 7 |\n",
      "- - - - - - - - - - - - - \n"
     ]
    }
   ],
   "source": [
    "### solving expert Sudoku ###\n",
    "\n",
    "print_board(sudoku_expert)\n",
    "solve_board(sudoku_expert)\n",
    "print_board(sudoku_expert)"
   ]
  },
  {
   "cell_type": "markdown",
   "metadata": {},
   "source": [
    "Both the Easy and Expert Sudoku boards can be seen to have been successfully solved. The Sudoku solver functions have been confirmed to work."
   ]
  }
 ],
 "metadata": {
  "kernelspec": {
   "display_name": "Python 3",
   "language": "python",
   "name": "python3"
  },
  "language_info": {
   "codemirror_mode": {
    "name": "ipython",
    "version": 3
   },
   "file_extension": ".py",
   "mimetype": "text/x-python",
   "name": "python",
   "nbconvert_exporter": "python",
   "pygments_lexer": "ipython3",
   "version": "3.7.6"
  }
 },
 "nbformat": 4,
 "nbformat_minor": 4
}
